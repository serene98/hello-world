{
 "cells": [
  {
   "cell_type": "code",
   "execution_count": 3,
   "id": "33995b04",
   "metadata": {},
   "outputs": [],
   "source": [
    "import scrapy"
   ]
  },
  {
   "cell_type": "code",
   "execution_count": 13,
   "id": "1b8a4b20",
   "metadata": {},
   "outputs": [],
   "source": [
    "\n",
    "name = 'singaporeexpats'\n",
    "\n",
    "start_urls = [\n",
    "    'https://forum.singaporeexpats.com/viewforum.php?f=93',\n",
    "]\n",
    "\n",
    "def parse(self, response):\n",
    "    for topic_list in response.xpath('//ul[has-class(\"topiclist topics\")]'):\n",
    "        for topic in topic_list.xpath('li/dl/dt'):\n",
    "            yield {\n",
    "                'topic': topic.xpath('div/a/text()').get(),\n",
    "            }\n",
    "            yield response.follow(topic.xpath('div/a/@href').get(), \\\n",
    "                self.parse)\n",
    "\n",
    "    for post in response.xpath('//div[has-class(\"page-body-inner\")]/div/div[has-class(\"inner\")]'):\n",
    "        yield {\n",
    "            'author': post.xpath('//*[has-class(\"author\")]/span/strong/a/text()').get(),\n",
    "            'content': post.xpath('div[has-class(\"postbody\")]/div/div[has-class(\"content\")]/text()').get(),\n",
    "        }\n",
    "        print(post)\n",
    "    next_page = response.xpath('//li[has-class(\"arrow next\")]/a/@href').get()\n",
    "    if next_page is not None:\n",
    "        yield response.follow(next_page, self.parse)"
   ]
  },
  {
   "cell_type": "code",
   "execution_count": 11,
   "id": "0e714289",
   "metadata": {},
   "outputs": [
    {
     "ename": "NameError",
     "evalue": "name 'response' is not defined",
     "output_type": "error",
     "traceback": [
      "\u001b[1;31m---------------------------------------------------------------------------\u001b[0m",
      "\u001b[1;31mNameError\u001b[0m                                 Traceback (most recent call last)",
      "\u001b[1;32m<ipython-input-11-ab0153f39f33>\u001b[0m in \u001b[0;36m<module>\u001b[1;34m\u001b[0m\n\u001b[1;32m----> 1\u001b[1;33m \u001b[0mresponse\u001b[0m\u001b[1;33m\u001b[0m\u001b[1;33m\u001b[0m\u001b[0m\n\u001b[0m",
      "\u001b[1;31mNameError\u001b[0m: name 'response' is not defined"
     ]
    }
   ],
   "source": []
  },
  {
   "cell_type": "code",
   "execution_count": 9,
   "id": "b2b9a64d",
   "metadata": {},
   "outputs": [
    {
     "ename": "NameError",
     "evalue": "name 'topic_list' is not defined",
     "output_type": "error",
     "traceback": [
      "\u001b[1;31m---------------------------------------------------------------------------\u001b[0m",
      "\u001b[1;31mNameError\u001b[0m                                 Traceback (most recent call last)",
      "\u001b[1;32m<ipython-input-9-bc1f042b0bb4>\u001b[0m in \u001b[0;36m<module>\u001b[1;34m\u001b[0m\n\u001b[0;32m      3\u001b[0m     \u001b[1;32myield\u001b[0m \u001b[0mreponse\u001b[0m\u001b[1;33m.\u001b[0m\u001b[0mfollow\u001b[0m\u001b[1;33m(\u001b[0m\u001b[0mtopic_list\u001b[0m\u001b[1;33m.\u001b[0m\u001b[0mget\u001b[0m\u001b[1;33m(\u001b[0m\u001b[1;33m)\u001b[0m\u001b[1;33m,\u001b[0m \u001b[0mself\u001b[0m\u001b[1;33m.\u001b[0m\u001b[0mparse\u001b[0m\u001b[1;33m)\u001b[0m\u001b[1;33m\u001b[0m\u001b[1;33m\u001b[0m\u001b[0m\n\u001b[0;32m      4\u001b[0m     \u001b[1;32mreturn\u001b[0m \u001b[0mtopic_list\u001b[0m\u001b[1;33m\u001b[0m\u001b[1;33m\u001b[0m\u001b[0m\n\u001b[1;32m----> 5\u001b[1;33m \u001b[0mprint\u001b[0m\u001b[1;33m(\u001b[0m\u001b[0mtopic_list\u001b[0m\u001b[1;33m)\u001b[0m\u001b[1;33m\u001b[0m\u001b[1;33m\u001b[0m\u001b[0m\n\u001b[0m",
      "\u001b[1;31mNameError\u001b[0m: name 'topic_list' is not defined"
     ]
    }
   ],
   "source": [
    "def parse(self, response):\n",
    "    topic_list = response.xpath('//*[@id=\"page-body\"]/div[6]/div/ul[2]/li[1]/dl/dt/div/a')\n",
    "    yield reponse.follow(topic_list.get(), self.parse)\n",
    "    return topic_list\n",
    "print(topic_list)"
   ]
  },
  {
   "cell_type": "code",
   "execution_count": null,
   "id": "f505e6c8",
   "metadata": {},
   "outputs": [],
   "source": []
  }
 ],
 "metadata": {
  "kernelspec": {
   "display_name": "Python 3",
   "language": "python",
   "name": "python3"
  },
  "language_info": {
   "codemirror_mode": {
    "name": "ipython",
    "version": 3
   },
   "file_extension": ".py",
   "mimetype": "text/x-python",
   "name": "python",
   "nbconvert_exporter": "python",
   "pygments_lexer": "ipython3",
   "version": "3.8.8"
  }
 },
 "nbformat": 4,
 "nbformat_minor": 5
}
